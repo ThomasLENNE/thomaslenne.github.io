{
 "cells": [
  {
   "cell_type": "markdown",
   "metadata": {},
   "source": [
    "# <center> Back to school Rantanplan </center>\n",
    "\n",
    "* Pendant qu’Averell finit de manger, les trois autres Daltons prennent l’air dans un champ de 10 mètres sur 10 mètres.Rantanplan traîne aussi dans le champ. Les trois Daltons appellent simultanément le chien qui se dirige aléatoirement vers l’un d’eux. Trahi par sa mémoire défaillante, il s’arrête au milieu de son trajet et creuse un trou. Les trois Daltons le rappellent, il repart au hasard vers l’un d’eux, s’arrête à mi-chemin , creuse un trou...\n",
    "\n",
    "* Le but de cette activité est de représenter graphiquement les trous faits par Rantanplan lorsqu'il est appelé un grand nombre de fois, un resultat...Surprenant."
   ]
  },
  {
   "cell_type": "markdown",
   "metadata": {},
   "source": [
    "### Import des modules\n",
    "__Exécuter le code ci-dessous.__ \n",
    "Si aucune erreur n'est affichée, passer à la suite, sinon appeler le professeur."
   ]
  },
  {
   "cell_type": "code",
   "execution_count": 1,
   "metadata": {},
   "outputs": [],
   "source": [
    "from random import *  #pour générer des nombres aléatoires\n",
    "from matplotlib import pyplot #pour la représentation graphique"
   ]
  },
  {
   "cell_type": "markdown",
   "metadata": {},
   "source": [
    "### Les personnages\n",
    "Le champ sera représenté à l'aide du sous-module `pyplot`, plus précisément à l'aide de la méthode `.plot()`."
   ]
  },
  {
   "cell_type": "markdown",
   "metadata": {},
   "source": [
    "1. Voici le code qui permet d'afficher la position d'Averell (qui n'a rien à faire ici...).\n",
    "     * Quel est le type de données contenu dans la variable `averell` ? __Réponse :__\n",
    "     * Que permet l'instruction `averell[0]` ? __Réponse :__"
   ]
  },
  {
   "cell_type": "code",
   "execution_count": 2,
   "metadata": {},
   "outputs": [
    {
     "data": {
      "image/png": "[encoded data removed]",
      "text/plain": [
       "<Figure size 432x288 with 1 Axes>"
      ]
     },
     "metadata": {
      "needs_background": "light"
     },
     "output_type": "display_data"
    }
   ],
   "source": [
    "# positons des daltons\n",
    "averell=(5,5)\n",
    "\n",
    "\n",
    "\n",
    "\n",
    "# place les points\n",
    "pyplot.plot(averell[0],averell[1],'*')\n",
    "\n",
    "\n",
    "\n",
    "\n",
    "#affiche le graphique\n",
    "pyplot.show()"
   ]
  },
  {
   "cell_type": "markdown",
   "metadata": {},
   "source": [
    "2. __En complétant le code ci-dessus, placer les daltons__. Joe, Jack et william seront respectivement représentés par les points $(0,0)$, $(10,0)$ et $(5,10)$."
   ]
  },
  {
   "cell_type": "markdown",
   "metadata": {},
   "source": [
    "3. On stocke désormais les coordonnées des trois daltons dans un tableau(et on laisse tomber Averell) . __Compléter le code ci-dessous pour faire apparaître les trois daltons, comme précédemment.__"
   ]
  },
  {
   "cell_type": "code",
   "execution_count": null,
   "metadata": {},
   "outputs": [],
   "source": [
    "# positions des daltons (question 3)\n",
    "\n",
    "\n",
    "\n",
    "DALTONS=[JOE,JACK,WILL] #tableau\n",
    "\n",
    "#position de rantanplan ( question 4)\n",
    "\n",
    "\n",
    "# place les daltons (question 3)\n",
    "\n",
    "\n",
    "# place rantanplan (question 4)\n",
    "\n",
    "\n",
    "#affiche le graphique\n",
    "pyplot.show()"
   ]
  },
  {
   "cell_type": "markdown",
   "metadata": {},
   "source": [
    "4. Voici la documentation de la fonction `randint` contenue dans le module `random` :\n",
    "\n",
    "```\n",
    "randint(a, b) method of random.Random instance\n",
    "    Return random integer in range [a, b], including both end points.\n",
    "```\n",
    "\n",
    "__Compléter le code ci-dessus pour que Rantanplan apparaisse de façon aléatoire dans le champ à chaque éxécution.__"
   ]
  },
  {
   "cell_type": "markdown",
   "metadata": {},
   "source": [
    "## Le déplacement du chien\n",
    "1. On suppose que les coordonnées des différents personnages sont les suivantes :\n",
    "   * Rantanplan : $(5,5)$\n",
    "   * Joe : $(0,0)$\n",
    "   * Jack :$(10,0)$\n",
    "   * William : $(5,10)$  "
   ]
  },
  {
   "cell_type": "markdown",
   "metadata": {},
   "source": [
    "__Compléter :__\n",
    "* Si Rantanplan est appelé par Joe, alors il creusera un trou au point : \n",
    "* Si c'est par Jack , ce sera au point : \n",
    "* Si c'est par William, ce sera au point : "
   ]
  },
  {
   "cell_type": "markdown",
   "metadata": {},
   "source": [
    "2. Pour calculer le déplacement du chien d'un trou au suivant, nous allons créer la fonction `rantanplan(x,y,daltons)`. \n",
    "\n",
    "* Cette fonction prend en paramètres :\n",
    "   * `x` et `y` : les coordonnées courantes du chien, de type `float`\n",
    "   * `daltons` : la liste des daltons, de type tableau de tuples.\n",
    "   \n",
    "* Cette fonction renvoie :\n",
    "   * `(x,y)` : les nouvelles coordonnées du chien après déplacement vers un des daltons, de type `tuple`. \n",
    "\n",
    "__Compléter le code de la fonction ci-dessous :__\n",
    "\n",
    "Aides : \n",
    "* Pour le choix du dalton, on pourra choisir un entier entre 0 et 2 et utiliser cet entier comme index du tableau `daltons`\n",
    "* On pourra utiliser la formule qui permet de calculer les coordonnées du milieu d'un segment dans un repère :\n",
    "$A(x_A,y_A)$ et $B(x_B,y_B)$ sont deux points dans un repère. Le point $I$ milieu du segment [AB] a pour coordonnées $(\\frac{x_A+x_B}{2},\\frac{y_A+y_B}{2})$"
   ]
  },
  {
   "cell_type": "code",
   "execution_count": null,
   "metadata": {},
   "outputs": [],
   "source": [
    "def rantanplan(x,y,daltons):\n",
    "    i=                    #choix aléatoire de l'un des daltons\n",
    "    xd,yd=                #coordonnées du dalton\n",
    "    x,y=                  #calcul des nouvelles coordonnées de rantanplan\n",
    "    return (x,y)"
   ]
  },
  {
   "cell_type": "code",
   "execution_count": null,
   "metadata": {},
   "outputs": [],
   "source": [
    "#tests  : vérifier les coordonnées calculées à la question 1 \n",
    "#en éxécutant plusieurs fois cette cellule.\n",
    "print(rantanplan(5,5,DALTONS))"
   ]
  },
  {
   "cell_type": "markdown",
   "metadata": {},
   "source": [
    "## Les trous\n",
    "Voici le code partiel de la fonction `trous(n,rtp,daltons)`. Elle prend en paramètres :\n",
    " * `n` : le nombre de trous à calculer, de type entier.\n",
    " * `rtp` : les coordonnées initiales de Rantanplan, de type tuple.\n",
    " * `daltons` : la liste des daltons, de type tableau de tuples.\n",
    " \n",
    " Cette fonction renvoie :\n",
    " * `res` : tableau de tuples contenant les coordonnées des $n$ trous creusés."
   ]
  },
  {
   "cell_type": "code",
   "execution_count": 3,
   "metadata": {},
   "outputs": [],
   "source": [
    "def trous(n,rtp,daltons):\n",
    "    res=[]\n",
    "    i=0\n",
    "    x,y=rtp\n",
    "    while i<n:\n",
    "        x,y=rantanplan(x,y, daltons)\n",
    "        res.append((x,y))\n",
    "        \n",
    "    \n",
    "    return res"
   ]
  },
  {
   "cell_type": "markdown",
   "metadata": {},
   "source": [
    "1. Expliquer le rôle des instructions des lignes suivantes :\n",
    "   * ligne 6 :  \n",
    "   * ligne 7 :  "
   ]
  },
  {
   "cell_type": "markdown",
   "metadata": {},
   "source": [
    "2. Il manque une ligne dans la boucle `while` pour que cette fonction s'éxécute correctement. La rajouter puis vérifier la cohérence de l'affichage."
   ]
  },
  {
   "cell_type": "code",
   "execution_count": null,
   "metadata": {},
   "outputs": [],
   "source": [
    "TROUS=trous(10,RTP,DALTONS)\n",
    "print(TROUS)"
   ]
  },
  {
   "cell_type": "markdown",
   "metadata": {},
   "source": [
    "## L'affichage des trous\n",
    "Afficher sur le graphique les trous creusés par Rantanplan. Rééxécuter ensuite le code en augmentant le nombre de trous creusés par Rantanplan."
   ]
  },
  {
   "cell_type": "code",
   "execution_count": null,
   "metadata": {},
   "outputs": [],
   "source": [
    "#Affichage des trous\n",
    "\n",
    "\n",
    "\n",
    "\n",
    "\n",
    "\n",
    "\n",
    "\n",
    "pyplot.show()"
   ]
  },
  {
   "cell_type": "markdown",
   "metadata": {},
   "source": [
    "## Prolongements\n",
    "On pourra tester avec des coordonnées différentes pour les daltons, en incluant Averell, ..."
   ]
  }
 ],
 "metadata": {
  "kernelspec": {
   "display_name": "Python 3",
   "language": "python",
   "name": "python3"
  },
  "language_info": {
   "codemirror_mode": {
    "name": "ipython",
    "version": 3
   },
   "file_extension": ".py",
   "mimetype": "text/x-python",
   "name": "python",
   "nbconvert_exporter": "python",
   "pygments_lexer": "ipython3",
   "version": "3.8.5"
  }
 },
 "nbformat": 4,
 "nbformat_minor": 4
}
