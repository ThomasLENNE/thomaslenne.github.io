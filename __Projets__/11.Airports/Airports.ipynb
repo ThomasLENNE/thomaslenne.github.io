{
 "cells": [
  {
   "cell_type": "markdown",
   "metadata": {},
   "source": [
    "#  <center>  🛫 Airports 🛬 </center> \n",
    "### <center>Le but de ce projet est de concevoir et d'exploiter une base de données à partir de fichiers textes formatés.</center>\n",
    "\n",
    "## Travail indicatif à réaliser\n",
    "\n",
    "### 1. Récupérer les fichiers de données\n",
    "Les fichiers sont issus de deux sources :\n",
    "* https://openflights.org/data.html : on utilisera les fichiers `airports.dat` et `airlines.dat`\n",
    "* https://www.kaggle.com/open-flights/flight-route-database : on utilisera le fichier `routes.csv`, plus complet que celui présent sur opeflights.\n",
    "* Les informations contenues dans les fichiers sont détaillées sur les sites cités.\n",
    "\n",
    "### 2. Construire le MCD\n",
    "A partir de l'analyse et de la simplification éventuelle des fichiers, le modèle conceptuel de données et les scripts de création de tables pourront être générés à l'aide de l'outil en ligne \"MoCoDo\" (http://mocodo.wingi.net/) .\n",
    "\n",
    "__Exemple :__\n",
    "<img src='mcd.png' style='float:center;' width=25%>\n",
    "\n",
    "\n",
    "\n",
    "### 3. Importer les données\n",
    "On pourra ensuite peupler les tables à l'aide du logiciel sqlitestudio https://sqlitestudio.pl/ (disponible en éxécutable, sans installation), via l'import de fichier `.csv`\n",
    "\n",
    "\n",
    "### 4. Exploiter les données\n",
    "On pourra enfin utiliser dans un notebook les modules python `sqlite3` pour exécuter des requêtes SQL et `folium` pour générer des cartes interactives afin de faire apparaitre différentes informations.\n",
    "\n",
    "* Quelques possibilités de folium : https://python-visualization.github.io/folium/quickstart.html#Getting-Started\n",
    "\n",
    "\n",
    "__Exemples :__\n",
    "\n",
    "* Afficher tous les aéroprts, ou ceux avec des caractéristiques données.\n",
    "* Afficher les informations des aéroports(nom, altitude,...) dans une info-bulle.\n",
    "* Afficher des routes(sous forme de segments dans un premier temps).\n",
    "* ...\n",
    "\n",
    "<img src='popup.png' style='float:right;' width=40%>\n",
    "\n",
    "__Bonus :__\n",
    "Tracer des routes orthodromiques(https://fr.wikipedia.org/wiki/Orthodromie) sur le planisphère entre deux aéroports. \n",
    "* Indications :\n",
    "  * Ecrire ou utiliser une fonction qui renvoie la distance entre deux points de coordonnées gps donnés :\n",
    "  https://stackoverflow.com/questions/4913349/haversine-formula-in-python-bearing-and-distance-between-two-gps-points\n",
    "  * Ecrire ou utiliser une fonction qui renvoie les coordonnées d'un point intermédiaire; dans cette bibliothèque , on pourra y dénicher des fonctions intéréssantes :\n",
    "  https://pypi.org/project/great-circle-calculator/\n",
    "  * Considérer une route comme une succession de segments rectilignes et la faire tracer par folium.\n",
    "\n",
    "*Ci-contre : Un aéroport en Californie.*\n",
    "\n",
    "*Ci-dessous : Les routes à destinaton ou en provenance de Los Angeles et de Roissy Charles de Gaulle.*\n",
    "<img src='route.jpeg' style='float:left;' width=70%>\n"
   ]
  },
  {
   "cell_type": "markdown",
   "metadata": {},
   "source": [
    "## Travail\n",
    "\n",
    "\n",
    "### A rendre\n",
    "Un fichier individuel au format .pdf de 5 pages maximum contenant un rapport avec :\n",
    "* La répartition des tâches dans le groupe.\n",
    "* Les difficultés rencontrées et les solutions proposées.\n",
    "* L'explication d'une partie de code que vous aurez plus spécifiquement travaillé."
   ]
  }
 ],
 "metadata": {
  "kernelspec": {
   "display_name": "Python 3",
   "language": "python",
   "name": "python3"
  },
  "language_info": {
   "codemirror_mode": {
    "name": "ipython",
    "version": 3
   },
   "file_extension": ".py",
   "mimetype": "text/x-python",
   "name": "python",
   "nbconvert_exporter": "python",
   "pygments_lexer": "ipython3",
   "version": "3.8.5"
  }
 },
 "nbformat": 4,
 "nbformat_minor": 4
}
